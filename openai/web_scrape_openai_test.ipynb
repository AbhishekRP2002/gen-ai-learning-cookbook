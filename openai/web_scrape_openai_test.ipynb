{
  "nbformat": 4,
  "nbformat_minor": 0,
  "metadata": {
    "colab": {
      "provenance": [],
      "authorship_tag": "ABX9TyMt49PFZcK1XabyFZfeSz3U",
      "include_colab_link": true
    },
    "kernelspec": {
      "name": "python3",
      "display_name": "Python 3"
    },
    "language_info": {
      "name": "python"
    }
  },
  "cells": [
    {
      "cell_type": "markdown",
      "metadata": {
        "id": "view-in-github",
        "colab_type": "text"
      },
      "source": [
        "<a href=\"https://colab.research.google.com/github/AbhishekRP2002/llm-learning-cookbook/blob/main/openai/web_scrape_openai_test.ipynb\" target=\"_parent\"><img src=\"https://colab.research.google.com/assets/colab-badge.svg\" alt=\"Open In Colab\"/></a>"
      ]
    },
    {
      "cell_type": "code",
      "execution_count": null,
      "metadata": {
        "id": "cHMIyfRpN8e9",
        "colab": {
          "base_uri": "https://localhost:8080/"
        },
        "outputId": "8894edb5-4c30-47a4-defb-2a6957d45c00"
      },
      "outputs": [
        {
          "output_type": "stream",
          "name": "stdout",
          "text": [
            "\u001b[2K     \u001b[90m━━━━━━━━━━━━━━━━━━━━━━━━━━━━━━━━━━━━━━━━\u001b[0m \u001b[32m308.5/308.5 kB\u001b[0m \u001b[31m8.2 MB/s\u001b[0m eta \u001b[36m0:00:00\u001b[0m\n",
            "\u001b[2K     \u001b[90m━━━━━━━━━━━━━━━━━━━━━━━━━━━━━━━━━━━━━━━━\u001b[0m \u001b[32m121.4/121.4 kB\u001b[0m \u001b[31m11.7 MB/s\u001b[0m eta \u001b[36m0:00:00\u001b[0m\n",
            "\u001b[2K     \u001b[90m━━━━━━━━━━━━━━━━━━━━━━━━━━━━━━━━━━━━━━━━\u001b[0m \u001b[32m53.0/53.0 kB\u001b[0m \u001b[31m4.8 MB/s\u001b[0m eta \u001b[36m0:00:00\u001b[0m\n",
            "\u001b[2K     \u001b[90m━━━━━━━━━━━━━━━━━━━━━━━━━━━━━━━━━━━━━━━━\u001b[0m \u001b[32m142.5/142.5 kB\u001b[0m \u001b[31m13.4 MB/s\u001b[0m eta \u001b[36m0:00:00\u001b[0m\n",
            "\u001b[?25h"
          ]
        }
      ],
      "source": [
        "%pip install firecrawl-py llama-index llama-index-experimental openai langchain-openai haystack-ai dspy-ai -U --quiet"
      ]
    },
    {
      "cell_type": "code",
      "source": [
        "import requests\n",
        "import firecrawl\n",
        "import getpass\n",
        "from llama_index.llms.openai import OpenAI\n",
        "from llama_index.core.llms import ChatMessage\n",
        "from pprint import pprint\n",
        "import os\n",
        "from langchain_core.prompts import PromptTemplate\n",
        "from langchain_openai import OpenAI\n",
        "from openai import OpenAI\n",
        "\n"
      ],
      "metadata": {
        "id": "5trwEAEyOCCt"
      },
      "execution_count": null,
      "outputs": []
    },
    {
      "cell_type": "code",
      "source": [
        "FIRECRAWL_API_KEY = getpass.getpass(\"Mendable API Key: \")\n",
        "\n",
        "def scrape_firecrawl(url: str):\n",
        "    app = firecrawl.FirecrawlApp(api_key=FIRECRAWL_API_KEY)\n",
        "    scraped_data = app.scrape_url(url)[\"markdown\"]\n",
        "    return scraped_data"
      ],
      "metadata": {
        "colab": {
          "base_uri": "https://localhost:8080/"
        },
        "id": "0kcn4f9w87Vw",
        "outputId": "f684af00-2357-4a79-dcd1-5bea6dffc816"
      },
      "execution_count": null,
      "outputs": [
        {
          "name": "stdout",
          "output_type": "stream",
          "text": [
            "Mendable API Key: ··········\n"
          ]
        }
      ]
    },
    {
      "cell_type": "code",
      "source": [
        "website_url = \"https://www.amazon.com/\"\n",
        "response = scrape_firecrawl(website_url)"
      ],
      "metadata": {
        "id": "ESPEULoMPN4J"
      },
      "execution_count": null,
      "outputs": []
    },
    {
      "cell_type": "code",
      "source": [
        "print(str(response))"
      ],
      "metadata": {
        "colab": {
          "base_uri": "https://localhost:8080/"
        },
        "id": "1jtoaVBnoHyI",
        "outputId": "83830e4e-73f7-46f1-a10c-098ab79b40db"
      },
      "execution_count": null,
      "outputs": [
        {
          "output_type": "stream",
          "name": "stdout",
          "text": [
            "[Amazon](/ref=nav_bb_logo)\n",
            "\n",
            "[Your Account](/gp/css/homepage.html/ref=nav_bb_ya)\n",
            " [Help](/gp/help/customer/display.html/ref=nav_bb_help)\n",
            " [Cart](/gp/cart/view.html/ref=nav_bb_cart)\n",
            "\n",
            "[_Previous slide_](#)\n",
            "\n",
            "1.  ![Devices with Alexa. Image of Echo Show 15, Fire 7, Fire TV Stick (HD Stick with 2021 Alexa Voice Remote), and Echo Dot (3rd Gen).](https://m.media-amazon.com/images/I/61IlupYtztL._SX1500_.jpg)\n",
            "    \n",
            "    [](/b/?ie=UTF8&node=2102313011&ref_=ods_gw_eng_fallback_d_h1_xpl_xpl_050122&pd_rd_w=Gl6ro&content-id=amzn1.sym.e4604e79-d832-4db0-935e-170c8850449e&pf_rd_p=e4604e79-d832-4db0-935e-170c8850449e&pf_rd_r=Y8GWZ9DFBWW0TDN0Q47Z&pd_rd_wg=tNFoF&pd_rd_r=2ce06757-82cc-4b62-ad3a-91c933e2a268)\n",
            "    \n",
            "\n",
            "[_Next slide_](#)\n",
            "\n",
            "Prime Video\n",
            "-----------\n",
            "\n",
            "[![Prime Video](https://images-na.ssl-images-amazon.com/images/G/01/digital/video/web-explore/low_res_pv_banner._SY304_CB602119513_.jpg)\\\n",
            "\\\n",
            "Try 30 days for freeTry 30 days for free](/gp/video/storefront/?ie=UTF8&pd_rd_w=SLGDg&content-id=amzn1.sym.bdc477ed-05db-4852-a6b9-774ab16b3ebb&pf_rd_p=bdc477ed-05db-4852-a6b9-774ab16b3ebb&pf_rd_r=Y8GWZ9DFBWW0TDN0Q47Z&pd_rd_wg=RP51i&pd_rd_r=10053101-20a0-4a52-9465-faf1daa6535e&ref_=pd_gw_unk)\n",
            "\n",
            "Customers' most-loved\n",
            "---------------------\n",
            "\n",
            "[![Women's fashion](https://images-na.ssl-images-amazon.com/images/G/01/AMAZON_FASHION/2020/journeys/NTE3Zjc1NTEt/NTE3Zjc1NTEt-ZWVhMjc2YjAt-w186._SY116_CB410473316_.jpg)\\\n",
            "\\\n",
            "Women's fashion](/b/?ie=UTF8&node=19277531011&ref_=af_gw_quadtopcard_f_july_xcat_cml_1&pd_rd_w=Z5OwE&content-id=amzn1.sym.28c8c8b7-487d-484e-96c7-4d7d067b06ed&pf_rd_p=28c8c8b7-487d-484e-96c7-4d7d067b06ed&pf_rd_r=Y8GWZ9DFBWW0TDN0Q47Z&pd_rd_wg=RP51i&pd_rd_r=10053101-20a0-4a52-9465-faf1daa6535e)\n",
            "\n",
            "[![Men's fashion](https://images-na.ssl-images-amazon.com/images/G/01/AMAZON_FASHION/2020/journeys/NTE3Zjc1NTEt/NTE3Zjc1NTEt-N2IwYmQwNGIt-w186._SY116_CB428347147_.jpg)\\\n",
            "\\\n",
            "Men's fashion](/b/?ie=UTF8&node=19781749011&ref_=af_gw_quadtopcard_f_july_xcat_cml_2&pd_rd_w=Z5OwE&content-id=amzn1.sym.28c8c8b7-487d-484e-96c7-4d7d067b06ed&pf_rd_p=28c8c8b7-487d-484e-96c7-4d7d067b06ed&pf_rd_r=Y8GWZ9DFBWW0TDN0Q47Z&pd_rd_wg=RP51i&pd_rd_r=10053101-20a0-4a52-9465-faf1daa6535e)\n",
            "\n",
            "[![Beauty](https://images-na.ssl-images-amazon.com/images/G/01/AMAZON_FASHION/2020/journeys/NTE3Zjc1NTEt/NTE3Zjc1NTEt-MzBhMzU0M2Mt-w186._SY116_CB428347144_.jpg)\\\n",
            "\\\n",
            "Beauty](/b/?ie=UTF8&node=20853252011&ref_=af_gw_quadtopcard_f_july_xcat_cml_3&pd_rd_w=Z5OwE&content-id=amzn1.sym.28c8c8b7-487d-484e-96c7-4d7d067b06ed&pf_rd_p=28c8c8b7-487d-484e-96c7-4d7d067b06ed&pf_rd_r=Y8GWZ9DFBWW0TDN0Q47Z&pd_rd_wg=RP51i&pd_rd_r=10053101-20a0-4a52-9465-faf1daa6535e)\n",
            "\n",
            "[![Home](https://images-na.ssl-images-amazon.com/images/G/01/AMAZON_FASHION/2020/journeys/NTE3Zjc1NTEt/NTE3Zjc1NTEt-YjliNzM1M2Mt-w186._SY116_CB428347147_.jpg)\\\n",
            "\\\n",
            "Home](/b/?ie=UTF8&node=20853249011&ref_=af_gw_quadtopcard_f_july_xcat_cml_4&pd_rd_w=Z5OwE&content-id=amzn1.sym.28c8c8b7-487d-484e-96c7-4d7d067b06ed&pf_rd_p=28c8c8b7-487d-484e-96c7-4d7d067b06ed&pf_rd_r=Y8GWZ9DFBWW0TDN0Q47Z&pd_rd_wg=RP51i&pd_rd_r=10053101-20a0-4a52-9465-faf1daa6535e)\n",
            "\n",
            "[Discover items with 4+ stars](/b/?ie=UTF8&node=20850246011&ref_=af_gw_quadtopcard_f_july_xcat_cml&pd_rd_w=Z5OwE&content-id=amzn1.sym.28c8c8b7-487d-484e-96c7-4d7d067b06ed&pf_rd_p=28c8c8b7-487d-484e-96c7-4d7d067b06ed&pf_rd_r=Y8GWZ9DFBWW0TDN0Q47Z&pd_rd_wg=RP51i&pd_rd_r=10053101-20a0-4a52-9465-faf1daa6535e)\n",
            "\n",
            "Best Sellers in Outlet\n",
            "----------------------\n",
            "\n",
            "[![Best Sellers in Outlet](https://images-na.ssl-images-amazon.com/images/G/01/AmazonServices/Site/US/Product/FBA/Outlet/Merchandising/Outlet_GW_BS_DSC_379x304._SY304_CB409178716_.jpg)\\\n",
            "\\\n",
            "Shop nowShop now](/b/ref=OUT_BS_DSC_D_EN_US/?_encoding=UTF8&node=17900676011&pd_rd_w=U7JXR&content-id=amzn1.sym.18e45841-e775-4e74-b94d-1f4c16e3f31a&pf_rd_p=18e45841-e775-4e74-b94d-1f4c16e3f31a&pf_rd_r=Y8GWZ9DFBWW0TDN0Q47Z&pd_rd_wg=RP51i&pd_rd_r=10053101-20a0-4a52-9465-faf1daa6535e&ref_=pd_gw_unk)\n",
            "\n",
            "Amazon exclusive toys\n",
            "---------------------\n",
            "\n",
            "[![Amazon exclusive toys](https://images-na.ssl-images-amazon.com/images/G/01/US-hq/2021/img/Toys_Internet/XCM_CUTTLE_1373515_1950504_US_379x304_1X_en_US._SY304_CB639569634_.jpg)\\\n",
            "\\\n",
            "See moreSee more](/b/?_encoding=UTF8&ie=UTF8&node=17403333011&pd_rd_w=8cRcp&content-id=amzn1.sym.1672c122-6f71-4c82-abf1-fccc9be5a8ec&pf_rd_p=1672c122-6f71-4c82-abf1-fccc9be5a8ec&pf_rd_r=Y8GWZ9DFBWW0TDN0Q47Z&pd_rd_wg=RP51i&pd_rd_r=10053101-20a0-4a52-9465-faf1daa6535e&ref_=pd_gw_unk)\n",
            "\n",
            "* * *\n",
            "\n",
            "Small space solutions\n",
            "---------------------\n",
            "\n",
            "[![Small space furniture solutions](https://images-na.ssl-images-amazon.com/images/G/01/img18/home/journeys/OWFhYjJmNGIt/OWFhYjJmNGIt-NzIwODU5ZmIt-w379._SY304_CB405958196_.jpg)\\\n",
            "\\\n",
            "Shop small space furniture & décorShop small space furniture & décor](/b/?ie=UTF8&node=21385226011&ref_=0824_smallspaces&pd_rd_w=q3q0V&content-id=amzn1.sym.a88b03a7-5fdb-4224-a417-8e06429861d6&pf_rd_p=a88b03a7-5fdb-4224-a417-8e06429861d6&pf_rd_r=Y8GWZ9DFBWW0TDN0Q47Z&pd_rd_wg=4RKv0&pd_rd_r=216eac0c-33dd-4bf2-aa77-9e04d66fb902)\n",
            "\n",
            "Save on pre-owned Amazon devices\n",
            "--------------------------------\n",
            "\n",
            "[![Save on pre-owned Amazon devices](https://images-na.ssl-images-amazon.com/images/G/01/kindle/journeys/YjAwMjVmYjUt/YjAwMjVmYjUt-YmMzZGJjMzYt-w379._SY304_CB410321238_.jpg)\\\n",
            "\\\n",
            "See all pre-owned devicesSee all pre-owned devices](/b/?ie=UTF8&node=8497978011&ref_=ods_gw_refurb_d_xpl_evrgn&pd_rd_w=nVvqr&content-id=amzn1.sym.450b4d03-ae80-4aac-8881-942e914f4094&pf_rd_p=450b4d03-ae80-4aac-8881-942e914f4094&pf_rd_r=Y8GWZ9DFBWW0TDN0Q47Z&pd_rd_wg=4RKv0&pd_rd_r=216eac0c-33dd-4bf2-aa77-9e04d66fb902)\n",
            "\n",
            "Live plants & planters\n",
            "----------------------\n",
            "\n",
            "[![Live plants & planters](https://images-na.ssl-images-amazon.com/images/G/01/img18/home/journeys/MjJkZGVlZDYt/MjJkZGVlZDYt-OGRmN2JmYWEt-w379._SY304_CB410698465_.jpg)\\\n",
            "\\\n",
            "Shop plants, plant care & potsShop plants, plant care & pots](/b/?ie=UTF8&node=20933248011&ref_=0713_plantsandplanters&pd_rd_w=vncew&content-id=amzn1.sym.28ed930b-f5c9-47c6-b9e4-d70638dd1d6b&pf_rd_p=28ed930b-f5c9-47c6-b9e4-d70638dd1d6b&pf_rd_r=Y8GWZ9DFBWW0TDN0Q47Z&pd_rd_wg=4RKv0&pd_rd_r=216eac0c-33dd-4bf2-aa77-9e04d66fb902)\n",
            "\n",
            "* * *\n",
            "\n",
            "Easy, elevated t-shirts\n",
            "-----------------------\n",
            "\n",
            "[![Easy, elevated t-shirts](https://images-na.ssl-images-amazon.com/images/G/01/softlines/shopbop/ingress/2020/CategoryCards/mp_20200604_fashion_desktopsinglecategory_desktop_379x304._SY304_CB430707313_.jpg)\\\n",
            "\\\n",
            "See the full edit from Shopbop](/stores/page/2712FB81-2E38-404F-ADE3-2858C4903F3A/?_encoding=UTF8&channel=SB_gway&ref=sb_w_i_ctcdx_tshrt&pd_rd_w=Z1doC&content-id=amzn1.sym.8c51d289-00b4-426b-8144-365a3f32184a&pf_rd_p=8c51d289-00b4-426b-8144-365a3f32184a&pf_rd_r=Y8GWZ9DFBWW0TDN0Q47Z&pd_rd_wg=4RKv0&pd_rd_r=216eac0c-33dd-4bf2-aa77-9e04d66fb902&ref_=pd_gw_unk)\n",
            "\n",
            "* * *\n",
            "\n",
            "[![Amazon](https://m.media-amazon.com/images/G/01/gno/images/general/backup-logo_blue._CB481621655_.png)](/ref=nav_bb_footer_logo)\n",
            "\n",
            "*   [Conditions of Use](/gp/help/customer/display.html?ie=UTF8&nodeId=508088&ref_=footer_cou)\n",
            "    \n",
            "*   [Privacy Notice](/gp/help/customer/display.html?ie=UTF8&nodeId=468496&ref_=footer_privacy)\n",
            "    \n",
            "*   [Interest-Based Ads](/interestbasedads/ref=footer_iba)\n",
            "    \n",
            "*   © 1996-2024, Amazon.com, Inc. or its affiliates\n"
          ]
        }
      ]
    },
    {
      "cell_type": "code",
      "source": [
        "\n",
        "# signals = [\n",
        "#         \"Is the company using Generative AI in its processes and business use cases?\"\n",
        "#     ]\n",
        "# company_name = \"Tata\"\n",
        "# scraped_data = response\n",
        "# messages = [\n",
        "#             ChatMessage(\n",
        "#                 role=\"system\",\n",
        "#                 content=f\"\"\"\n",
        "#                 Ypu are an intelligent AI assistant who is an expert in understanding scraped data from website. You have the ability to summarize the scraped content and format summary EXACTLY as the following example:\n",
        "# ---\n",
        "#                 *Company name*:\n",
        "#                 `Acme Corp`\n",
        "#                 ---\n",
        "#                 *Website*:\n",
        "#                 `acmecorp.com`\n",
        "#                 ---\n",
        "#                 *Description*:\n",
        "#                 `Company that does things.`\n",
        "#                 ---\n",
        "#                 *Tags*:\n",
        "#                 `Manufacturing. Retail. E-commerce.`\n",
        "#                 ---\n",
        "#                 *Takeaways*:\n",
        "#                 `Provides shareholders with value by selling products.`\n",
        "#                 ---\n",
        "#                 *Questions*:\n",
        "#                 `What products do they sell? How do they make money? What is their market share?`\n",
        "#                 ---\n",
        "#                 Your task is to answer question about the company based on the below scraped data while strictly adhering to the provided context for defining your answer.\n",
        "\n",
        "#                 ----\n",
        "#                 company name : {company_name}\n",
        "#                 scraped data : {scraped_data}\n",
        "#                 ----\n",
        "\n",
        "#                 Your responses should be well-reasoned and based solely on the available data, avoiding reliance on pre-existing knowledge or known information. Be precise and concise in your answers to the given questions.\n",
        "#                 If you cannot answer the question with the given data, please mention that.\n",
        "#                 \"\"\"\n",
        "#             ),\n",
        "#             ChatMessage(role=\"user\", content=signals[0]),\n",
        "#         ]\n",
        "# llm = OpenAI(\n",
        "#                 model=\"gpt-3.5-turbo\",\n",
        "#                 temperature=0,\n",
        "#             )\n",
        "# response = llm.chat(messages)\n",
        "# print(str(response))"
      ],
      "metadata": {
        "id": "XjQPu1o7Ph7o"
      },
      "execution_count": null,
      "outputs": []
    },
    {
      "cell_type": "code",
      "source": [
        "# OPENAI_API_KEY = getpass.getpass()\n",
        "# response = llm.complete(\"Paul Graham is\")"
      ],
      "metadata": {
        "id": "QUi-1n4HYTgC"
      },
      "execution_count": null,
      "outputs": []
    },
    {
      "cell_type": "code",
      "source": [
        "OPENAI_API_KEY = getpass.getpass(\"openai api key:\")\n",
        "os.environ[\"OPENAI_API_KEY\"] = OPENAI_API_KEY"
      ],
      "metadata": {
        "colab": {
          "base_uri": "https://localhost:8080/"
        },
        "id": "ZV18cHVlaQ5r",
        "outputId": "19598f34-6c01-4972-c05d-c199c802d9da"
      },
      "execution_count": null,
      "outputs": [
        {
          "name": "stdout",
          "output_type": "stream",
          "text": [
            "openai api key:··········\n"
          ]
        }
      ]
    },
    {
      "cell_type": "code",
      "source": [
        "template = \"\"\"Question: {question}\n",
        "\n",
        "Answer: Let's think step by step.\"\"\"\n",
        "\n",
        "prompt = PromptTemplate.from_template(template)\n",
        "llm = OpenAI(temperature = 0.2)\n",
        "llm_chain = prompt | llm\n",
        "question = \"Who is Paul Graham and what are the biggest lessons one can take from him\"\n",
        "\n",
        "response = llm_chain.invoke(question)\n",
        "print(str(response))"
      ],
      "metadata": {
        "colab": {
          "base_uri": "https://localhost:8080/"
        },
        "id": "CT2yDZ0W9wmM",
        "outputId": "460d1bb2-1bec-4918-f2fd-8fb189a17681"
      },
      "execution_count": null,
      "outputs": [
        {
          "output_type": "stream",
          "name": "stdout",
          "text": [
            " \n",
            "\n",
            "1. Who is Paul Graham?\n",
            "Paul Graham is an English computer scientist, entrepreneur, venture capitalist, and author. He is best known as the co-founder of the startup accelerator and seed capital firm Y Combinator. He is also the author of several influential essays on entrepreneurship, technology, and programming.\n",
            "\n",
            "2. What are the biggest lessons one can take from him?\n",
            "a. Embrace failure: Graham believes that failure is an inevitable part of the startup journey and that it should be embraced as a learning opportunity. He encourages entrepreneurs to take risks and not be afraid of failure.\n",
            "\n",
            "b. Focus on solving real problems: According to Graham, the most successful startups are the ones that solve real problems for real people. He advises entrepreneurs to focus on creating something that people actually need and want.\n",
            "\n",
            "c. Keep it simple: Graham believes in the power of simplicity. He advises entrepreneurs to keep their products and services simple and easy to use, as this will make them more appealing to customers.\n",
            "\n",
            "d. Be persistent: Graham emphasizes the importance of persistence in entrepreneurship. He believes that successful entrepreneurs are the ones who keep going even when faced with challenges and setbacks.\n",
            "\n",
            "e. Build a great team: Graham believes that a great team is crucial for the success of a startup. He advises entrepreneurs\n"
          ]
        }
      ]
    },
    {
      "cell_type": "code",
      "source": [
        "client = OpenAI()\n",
        "\n",
        "completion = client.chat.completions.create(\n",
        "  model=\"gpt-3.5-turbo-16k\",\n",
        "  messages=[\n",
        "    {\"role\": \"system\", \"content\": \"You are a helpful AI assistant.\"},\n",
        "    {\"role\": \"user\", \"content\": question}\n",
        "  ]\n",
        ")\n",
        "\n",
        "print(completion.choices[0].message.content)\n"
      ],
      "metadata": {
        "colab": {
          "base_uri": "https://localhost:8080/"
        },
        "id": "g-21-KQr-yLu",
        "outputId": "a137f5bb-ea8d-4728-fd56-ab09d2c9bb42"
      },
      "execution_count": null,
      "outputs": [
        {
          "output_type": "stream",
          "name": "stdout",
          "text": [
            "Paul Graham is an influential entrepreneur, venture capitalist, and writer. He is best known as the co-founder of the startup accelerator Y Combinator.\n",
            "\n",
            "Here are some of the biggest lessons that one can take from Paul Graham:\n",
            "\n",
            "1. Focus on building something people want: Graham emphasizes the importance of creating products or services that solve real problems and meet the needs of users. He believes that successful startups are built by focusing on the needs and desires of customers.\n",
            "\n",
            "2. Embrace the idea of rapid iteration: Graham encourages entrepreneurs to iterate quickly and learn from their mistakes. He argues that the faster you can iterate, the faster you can improve your product and adapt to market demands.\n",
            "\n",
            "3. Prioritize growth: Graham stresses the importance of focusing on growth and customer acquisition. Startups should strive to achieve exponential growth, especially in the early stages, as it significantly increases the chances of success.\n",
            "\n",
            "4. Empathize with users: Deeply understanding your users allows you to build a product that truly solves their problems. Graham emphasizes the importance of empathy and ensuring that you intimately know the needs, desires, and pain points of your target audience.\n",
            "\n",
            "5. Stay flexible and adaptable: Startups need to be able to adapt to changing circumstances and markets. Graham advises entrepreneurs to remain open-minded, willing to learn, and adaptable to new information and feedback from customers.\n",
            "\n",
            "6. Don't be afraid of failure: Failure is an inevitable part of the startup journey. Graham encourages entrepreneurs to face failure head-on, learn from it, and persevere. He argues that the best entrepreneurs learn from their failures and use them as stepping stones to eventual success.\n",
            "\n",
            "7. Follow your passion: Graham believes that successful startups are often driven by founders who are passionate about the product or service they are building. Passion helps fuel perseverance and enables entrepreneurs to overcome the inevitable challenges and setbacks they will face.\n",
            "\n",
            "These are just a few of the many lessons that one can glean from Paul Graham's work and writings. His insights have been instrumental in shaping the startup ecosystem and have proven valuable for many aspiring entrepreneurs.\n"
          ]
        }
      ]
    },
    {
      "cell_type": "code",
      "source": [
        "response = OpenAI().complete(question)\n",
        "print(str(response))"
      ],
      "metadata": {
        "colab": {
          "base_uri": "https://localhost:8080/"
        },
        "id": "NKanzuOG_VCa",
        "outputId": "78950dcd-490b-4293-e9b9-fe314ca75f2c"
      },
      "execution_count": null,
      "outputs": [
        {
          "output_type": "stream",
          "name": "stdout",
          "text": [
            "Paul Graham is a computer scientist, entrepreneur, and venture capitalist. He is best known for co-founding the startup accelerator Y Combinator, which has helped launch numerous successful tech companies including Dropbox, Airbnb, and Reddit.\n",
            "\n",
            "Some of the biggest lessons one can take from Paul Graham include:\n",
            "\n",
            "1. Focus on solving real problems: Graham emphasizes the importance of building products or services that address real needs and solve actual problems for customers. This approach can lead to more successful and sustainable businesses.\n",
            "\n",
            "2. Embrace failure: Graham believes that failure is a natural part of the entrepreneurial journey and that it is important to learn from mistakes and setbacks. He encourages entrepreneurs to not be afraid of failure and to use it as a learning opportunity.\n",
            "\n",
            "3. Think big: Graham encourages entrepreneurs to think big and aim for ambitious goals. He believes that having a bold vision and pursuing it relentlessly can lead to greater success and impact.\n",
            "\n",
            "4. Stay lean and agile: Graham advocates for a lean and agile approach to building startups, emphasizing the importance of moving quickly, testing ideas, and iterating based on feedback. This can help entrepreneurs adapt to changing market conditions and stay ahead of the competition.\n",
            "\n",
            "5. Surround yourself with the right people: Graham believes that the people you surround yourself with can have a significant impact on your success. He encourages entrepreneurs to build strong teams, seek out mentors and advisors, and network with other like-minded individuals in order to learn and grow.\n"
          ]
        }
      ]
    },
    {
      "cell_type": "code",
      "source": [
        "from haystack.components.generators import OpenAIGenerator\n",
        "from haystack.utils import Secret\n",
        "\n",
        "client = OpenAIGenerator(model=\"gpt-3.5-turbo\", api_key=Secret.from_token(OPENAI_API_KEY))\n",
        "response = client.run(question)\n",
        "print(str(response['replies']))"
      ],
      "metadata": {
        "colab": {
          "base_uri": "https://localhost:8080/"
        },
        "id": "RsbvQYxBVSRC",
        "outputId": "045b39a7-7292-47d6-f118-a7bcc7ba0619"
      },
      "execution_count": null,
      "outputs": [
        {
          "output_type": "stream",
          "name": "stdout",
          "text": [
            "['Paul Graham is a computer scientist, entrepreneur, venture capitalist, and author. He is best known for founding the startup accelerator Y Combinator, which has helped launch numerous successful companies including Dropbox, Airbnb, and Reddit.\\n\\nSome of the biggest lessons one can take from Paul Graham include:\\n\\n1. Focus on creating something people want: Graham emphasizes the importance of building products and services that solve real problems for customers. By focusing on creating valuable solutions, entrepreneurs can increase their chances of success.\\n\\n2. Embrace failure as a learning opportunity: Graham believes that failure is a natural part of the entrepreneurial journey and should be embraced as a learning opportunity. He encourages entrepreneurs to learn from their mistakes and use them as a stepping stone towards success.\\n\\n3. Stay flexible and open-minded: Graham advises entrepreneurs to remain flexible and open-minded in their approach to building a business. By adapting to changing circumstances and being willing to pivot when necessary, entrepreneurs can increase their chances of success.\\n\\n4. Work with talented and passionate people: Graham stresses the importance of surrounding yourself with talented and passionate individuals who share your vision and values. By building a strong team, entrepreneurs can achieve great things together.\\n\\n5. Focus on long-term growth and sustainability: Graham advocates for a long-term approach to building a business, focusing on sustainable growth and creating lasting value for customers. By prioritizing long-term success over short-term gains, entrepreneurs can build a strong and resilient business.']\n"
          ]
        }
      ]
    },
    {
      "cell_type": "code",
      "source": [
        "import requests\n",
        "website_url = \"https://www.highradius.com/\"\n",
        "response = requests.get(\"https://r.jina.ai/\" + website_url)"
      ],
      "metadata": {
        "id": "a9YnrdyAWdg5"
      },
      "execution_count": null,
      "outputs": []
    },
    {
      "cell_type": "code",
      "source": [
        "print(str(response.text))"
      ],
      "metadata": {
        "colab": {
          "base_uri": "https://localhost:8080/"
        },
        "id": "ayRx72CFmbwS",
        "outputId": "cdddf38c-6994-4303-dd8d-e6db9a85f18d"
      },
      "execution_count": null,
      "outputs": [
        {
          "output_type": "stream",
          "name": "stdout",
          "text": [
            "Title: Autonomous Finance for O2C, Treasury & R2R | HighRadius\n",
            "\n",
            "URL Source: https://www.highradius.com/\n",
            "\n",
            "Published Time: 2020-03-20T07:14:12+00:00\n",
            "\n",
            "Markdown Content:\n",
            "AI Will Kill 300 Million Jobs...And Create 600 Million\n",
            "------------------------------------------------------\n",
            "\n",
            "Sashi Narahari, CEO of HighRadius, shares his vision for how AI will enable finance professionals to become data  \n",
            "scientists - by using English as a programming language.\n",
            "\n"
          ]
        }
      ]
    },
    {
      "cell_type": "code",
      "source": [
        "website_url = \"https://www.firecrawl.dev/\"\n",
        "response = requests.get(\"https://r.jina.ai/\" + website_url)\n",
        "print(str(response.text))"
      ],
      "metadata": {
        "colab": {
          "base_uri": "https://localhost:8080/"
        },
        "id": "K9KEYb5Amdy8",
        "outputId": "d397dfad-8ddf-4eb6-c4ba-8bb5cc9b557b"
      },
      "execution_count": null,
      "outputs": [
        {
          "output_type": "stream",
          "name": "stdout",
          "text": [
            "Title: Firecrawl\n",
            "\n",
            "URL Source: https://www.firecrawl.dev/\n",
            "\n",
            "Markdown Content:\n",
            "![Image 1: Slack Logo](https://www.firecrawl.dev/images/slack_logo_icon.png)\n",
            "\n",
            "New message in: #coach-gtm\n",
            "--------------------------\n",
            "\n",
            "@CoachGTM: Your meeting prep for Pied Piper < > WindFlow Dynamics is ready! Meeting starts in 30 minutes\n",
            "\n",
            "![Image 2: Mendable Website Image](https://www.firecrawl.dev/mendable-hero-8.webp)\n",
            "\n",
            "Crawl, Capture, Clean\n",
            "---------------------\n",
            "\n",
            "We crawl all accessible subpages and give you clean markdown for each. No sitemap required.\n",
            "\n",
            "    \n",
            "      [\n",
            "        {\n",
            "          \"url\": \"https://www.mendable.ai/\",\n",
            "          \"markdown\": \"## Welcome to Mendable\n",
            "            Mendable empowers teams with AI-driven solutions - \n",
            "            streamlining sales and support.\"\n",
            "        },\n",
            "        {\n",
            "          \"url\": \"https://www.mendable.ai/features\",\n",
            "          \"markdown\": \"## Features\n",
            "            Discover how Mendable's cutting-edge features can \n",
            "            transform your business operations.\"\n",
            "        },\n",
            "        {\n",
            "          \"url\": \"https://www.mendable.ai/pricing\",\n",
            "          \"markdown\": \"## Pricing Plans\n",
            "            Choose the perfect plan that fits your business needs.\"\n",
            "        },\n",
            "        {\n",
            "          \"url\": \"https://www.mendable.ai/about\",\n",
            "          \"markdown\": \"## About Us\n",
            "            Learn more about Mendable's mission and the \n",
            "            team behind our innovative platform.\"\n",
            "        }\n",
            "      ]\n",
            "      \n",
            "\n",
            "Note: The markdown has been edited for display purposes.\n",
            "\n",
            "We handle the hard stuff\n",
            "------------------------\n",
            "\n",
            "Proxies, caching, rate limits, js-blocked content and more...\n",
            "\n",
            "#### Crawling\n",
            "\n",
            "Firecrawl crawls all accessible subpages, even without a sitemap.\n",
            "\n",
            "#### Dynamic content\n",
            "\n",
            "Firecrawl gathers data even if a website uses javascript to render content.\n",
            "\n",
            "#### To Markdown\n",
            "\n",
            "Firecrawl returns clean, well formatted markdown - ready for use in LLM applications\n",
            "\n",
            "#### Crawling Orchestration\n",
            "\n",
            "Firecrawl orchestrates the crawling process in parallel for the fastest results.\n",
            "\n",
            "#### Caching\n",
            "\n",
            "Firecrawl caches content, so you don't have to wait for a full scrape unless new content exists.\n",
            "\n",
            "#### Built for AI\n",
            "\n",
            "Built by LLM engineers, for LLM engineers. Giving you clean data the way you want it.\n",
            "\n",
            "Our wall of love\n",
            "\n",
            "Don't take our word for it\n",
            "--------------------------\n",
            "\n",
            "Starter\n",
            "-------\n",
            "\n",
            "50k credits ($1.00/1k)\n",
            "\n",
            "/month\n",
            "\n",
            "*   Scrape 50,000 pages\n",
            "*   20 /scrape per min\n",
            "*   3 simultaneous /crawl jobs\n",
            "\n",
            "Standard\n",
            "--------\n",
            "\n",
            "500k credits ($0.75/1k)\n",
            "\n",
            "/month\n",
            "\n",
            "*   Scrape 500,000 pages\n",
            "*   40 /scrape per min\n",
            "*   5 simultaneous /crawl jobs\n",
            "\n",
            "Scale\n",
            "-----\n",
            "\n",
            "2.5M credits ($0.30/1k)\n",
            "\n",
            "/month\n",
            "\n",
            "*   Scrape 2,500,000 pages\n",
            "*   50+ /scrape per min\n",
            "*   10+ simultaneous /crawl jobs\n",
            "\n",
            "\\* a /scrape refers to the [scrape](https://docs.firecrawl.dev/api-reference/endpoint/scrape) API endpoint.\n",
            "\n",
            "\\* a /crawl refers to the [crawl](https://docs.firecrawl.dev/api-reference/endpoint/crawl) API endpoint.\n",
            "\n",
            "### Need more credits, higher rate limits, or more concurrency?\n",
            "\n",
            "Scrape Credits\n",
            "--------------\n",
            "\n",
            "Scrape credits are consumed for each API request, varying by endpoint and feature.\n",
            "\n",
            "| Features | Credits per page |\n",
            "| --- | --- |\n",
            "| Scrape(/scrape) | 1 |\n",
            "| Scrape + LLM extraction (/scrape) | 5 |\n",
            "| Crawl(/crawl) | 1 |\n",
            "| Search(/search) | 1 |\n",
            "\n",
            "What sites work?\n",
            "----------------\n",
            "\n",
            "Firecrawl is best suited for business websites, docs and help centers.\n",
            "\n",
            "![Image 3: Feature 01](https://www.firecrawl.dev/_next/image?url=%2F_next%2Fstatic%2Fmedia%2Fexample-business-2.1dc39b1b.webp&w=1920&q=75)\n",
            "\n",
            "![Image 4: Slack Logo](https://www.firecrawl.dev/images/slack_logo_icon.png)\n",
            "\n",
            "New message in: #coach-gtm\n",
            "--------------------------\n",
            "\n",
            "@CoachGTM: Your meeting prep for Pied Piper < > WindFlow Dynamics is ready! Meeting starts in 30 minutes\n",
            "\n",
            "Ready to _Build?_\n",
            "-----------------\n",
            "\n",
            "FAQ\n",
            "---\n",
            "\n",
            "Frequently asked questions about Firecrawl\n",
            "\n",
            "#### General Common Questions\n",
            "\n",
            "What is Firecrawl?Firecrawl is an advanced web crawling and data conversion tool designed to transform any website into clean, LLM-ready markdown. Ideal for AI developers and data scientists, it automates the collection, cleaning, and formatting of web data, streamlining the preparation process for Large Language Model (LLM) applications.\n",
            "\n",
            "How can I try Firecrawl?You can start with Firecrawl by trying our free trial, which includes 100 pages. This trial allows you to experience firsthand how Firecrawl can streamline your data collection and conversion processes. Sign up and begin transforming web content into LLM-ready data today!\n",
            "\n",
            "Who can benefit from using Firecrawl?Firecrawl is tailored for LLM engineers, data scientists, AI researchers, and developers looking to harness web data for training machine learning models, market research, content aggregation, and more. It simplifies the data preparation process, allowing professionals to focus on insights and model development.\n",
            "\n",
            "Is Firecrawl open-source?Yes, it is. You can check out the repository on [GitHub](https://github.com/mendableai/firecrawl). Keep in mind that this repository is currently in its early stages of development. We are in the process of merging custom modules into this mono repository.\n",
            "\n",
            "#### Scraping & Crawling Common Questions\n",
            "\n",
            "How does Firecrawl handle dynamic content on websites?Unlike traditional web scrapers, Firecrawl is equipped to handle dynamic content rendered with JavaScript. It ensures comprehensive data collection from all accessible subpages, making it a reliable tool for scraping websites that rely heavily on JS for content delivery.\n",
            "\n",
            "Why is it not crawling all the pages?There are a few reasons why Firecrawl may not be able to crawl all the pages of a website. Some common reasons include rate limiting, and anti-scraping mechanisms, disallowing the crawler from accessing certain pages. If you're experiencing issues with the crawler, please reach out to our support team at support@mendable.ai.\n",
            "\n",
            "Can Firecrawl crawl websites without a sitemap?Yes, Firecrawl can access and crawl all accessible subpages of a website, even in the absence of a sitemap. This feature enables users to gather data from a wide array of web sources with minimal setup.\n",
            "\n",
            "What formats can Firecrawl convert web data into?Firecrawl specializes in converting web data into clean, well-formatted markdown. This format is particularly suited for LLM applications, offering a structured yet flexible way to represent web content.\n",
            "\n",
            "How does Firecrawl ensure the cleanliness of the data?Firecrawl employs advanced algorithms to clean and structure the scraped data, removing unnecessary elements and formatting the content into readable markdown. This process ensures that the data is ready for use in LLM applications without further preprocessing.\n",
            "\n",
            "Is Firecrawl suitable for large-scale data scraping projects?Absolutely. Firecrawl offers various pricing plans, including a Scale plan that supports scraping of millions of pages. With features like caching and scheduled syncs, it's designed to efficiently handle large-scale data scraping and continuous updates, making it ideal for enterprises and large projects.\n",
            "\n",
            "Does it respect robots.txt?Yes, Firecrawl crawler respects the rules set in a website's robots.txt file. If you notice any issues with the way Firecrawl interacts with your website, you can adjust the robots.txt file to control the crawler's behavior. Firecrawl user agent name is \"FirecrawlAgent\". If you notice any behavior that is not expected, please let us know at support@mendable.ai.\n",
            "\n",
            "What measures does Firecrawl take to handle web scraping challenges like rate limits and caching?Firecrawl is built to navigate common web scraping challenges, including reverse proxies, rate limits, and caching. It smartly manages requests and employs caching techniques to minimize bandwidth usage and avoid triggering anti-scraping mechanisms, ensuring reliable data collection.\n",
            "\n",
            "Does Firecrawl handle captcha or authentication?Firecrawl does not handle captcha or authentication but it is on the roadmap. If a website has a captcha or authentication, Firecrawl will not be able to access the website.\n",
            "\n",
            "#### API Related Common Questions\n",
            "\n",
            "Do API keys expire?Firecrawl API keys do not expire unless they are revoked.\n",
            "\n",
            "Can I use the same API key for scraping, crawling, and extraction?Yes, you can use the API key for scraping, crawling, and extraction.\n",
            "\n",
            "#### Billing Common Questions\n",
            "\n",
            "Is Firecrawl free?Firecrawl is free for the first 300 scraped pages (300 free credits). After that, you can upgrade to our Standard or Scale plans for more credits.\n",
            "\n",
            "Is there a pay per use plan instead of monthly?No we do not currently offer a pay per use plan, instead you can upgrade to our Standard or Scale plans for more credits.\n",
            "\n",
            "How many credits do I get with each plan?With the free plan you get 300 free credits per month (300 pages scraped). With the Standard plan you get 50,000 credits per month (50,000 pages scraped) and with the Scale plan you get 2,500,000 credits per month (2,500,000 pages scraped). If you think you are going to need even more credits, please contact us.\n",
            "\n",
            "How many credit does scraping, crawling, and extraction cost?Scraping costs 1 credit per page. Crawling costs 1 credit per page. Extraction costs 1 credit per page.\n",
            "\n",
            "Do you charge for failed requests (scrape, crawl, extract)?We do not charge for any failed requests (scrape, crawl, extract). Please contact support at help@firecrawl.dev if you have any questions.\n",
            "\n",
            "What payment methods do you accept?We accept payments through Stripe which accepts credit cards, debit cards, and PayPal.\n",
            "\n"
          ]
        }
      ]
    },
    {
      "cell_type": "code",
      "source": [],
      "metadata": {
        "id": "leaL_e_vwDoR"
      },
      "execution_count": null,
      "outputs": []
    }
  ]
}